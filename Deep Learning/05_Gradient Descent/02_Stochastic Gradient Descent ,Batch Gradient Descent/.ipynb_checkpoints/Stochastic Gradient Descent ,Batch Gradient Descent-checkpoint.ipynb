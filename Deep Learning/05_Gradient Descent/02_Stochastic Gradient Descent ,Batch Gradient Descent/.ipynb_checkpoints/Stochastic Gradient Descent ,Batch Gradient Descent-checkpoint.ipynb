{
 "cells": [
  {
   "cell_type": "markdown",
   "id": "d51780c7-b63c-4461-b0e2-b17f1db151f4",
   "metadata": {},
   "source": [
    "# Implementation of stochastic and batch grandient descent in python"
   ]
  },
  {
   "cell_type": "markdown",
   "id": "f0a1df9e-d98f-48d8-85dd-885f6bb30bea",
   "metadata": {},
   "source": [
    "**We will use very simple home prices data set to implement batch and stochastic gradient descent in python. Batch gradient descent uses all training samples in forward pass to calculate cumulitive error and than we adjust weights using derivaties. In stochastic GD, we randomly pick one training sample, perform forward pass, compute the error and immidiately adjust weights. So the key difference here is that to adjust weights batch GD will use all training samples where as stochastic GD will use one randomly picked training sample**"
   ]
  },
  {
   "cell_type": "code",
   "execution_count": 1,
   "id": "1dac2620-8776-4665-a2a2-12dd987836e4",
   "metadata": {},
   "outputs": [],
   "source": [
    "import pandas as pd\n",
    "import numpy as np\n",
    "from matplotlib import pyplot as plt\n",
    "%matplotlib inline"
   ]
  },
  {
   "cell_type": "markdown",
   "id": "2b187804-79a0-47e4-adb3-9b92bde0fa95",
   "metadata": {},
   "source": [
    "# Load the dataset in pandas dataframe"
   ]
  },
  {
   "cell_type": "code",
   "execution_count": 3,
   "id": "760300a6-95dd-4bcf-a211-44e31c1fb031",
   "metadata": {},
   "outputs": [
    {
     "data": {
      "text/html": [
       "<div>\n",
       "<style scoped>\n",
       "    .dataframe tbody tr th:only-of-type {\n",
       "        vertical-align: middle;\n",
       "    }\n",
       "\n",
       "    .dataframe tbody tr th {\n",
       "        vertical-align: top;\n",
       "    }\n",
       "\n",
       "    .dataframe thead th {\n",
       "        text-align: right;\n",
       "    }\n",
       "</style>\n",
       "<table border=\"1\" class=\"dataframe\">\n",
       "  <thead>\n",
       "    <tr style=\"text-align: right;\">\n",
       "      <th></th>\n",
       "      <th>area</th>\n",
       "      <th>bedrooms</th>\n",
       "      <th>price</th>\n",
       "    </tr>\n",
       "  </thead>\n",
       "  <tbody>\n",
       "    <tr>\n",
       "      <th>18</th>\n",
       "      <td>2770</td>\n",
       "      <td>3</td>\n",
       "      <td>102.00</td>\n",
       "    </tr>\n",
       "    <tr>\n",
       "      <th>13</th>\n",
       "      <td>1100</td>\n",
       "      <td>2</td>\n",
       "      <td>40.00</td>\n",
       "    </tr>\n",
       "    <tr>\n",
       "      <th>11</th>\n",
       "      <td>2785</td>\n",
       "      <td>4</td>\n",
       "      <td>140.00</td>\n",
       "    </tr>\n",
       "    <tr>\n",
       "      <th>0</th>\n",
       "      <td>1056</td>\n",
       "      <td>2</td>\n",
       "      <td>39.07</td>\n",
       "    </tr>\n",
       "    <tr>\n",
       "      <th>17</th>\n",
       "      <td>1540</td>\n",
       "      <td>3</td>\n",
       "      <td>60.00</td>\n",
       "    </tr>\n",
       "  </tbody>\n",
       "</table>\n",
       "</div>"
      ],
      "text/plain": [
       "    area  bedrooms   price\n",
       "18  2770         3  102.00\n",
       "13  1100         2   40.00\n",
       "11  2785         4  140.00\n",
       "0   1056         2   39.07\n",
       "17  1540         3   60.00"
      ]
     },
     "execution_count": 3,
     "metadata": {},
     "output_type": "execute_result"
    }
   ],
   "source": [
    "df = pd.read_csv(\"homeprices_banglore.csv\")\n",
    "df.sample(5)"
   ]
  },
  {
   "cell_type": "markdown",
   "id": "2b70237b-bf73-4dbf-b4c8-63b5edcb4ad6",
   "metadata": {},
   "source": [
    "**Preprocessing/Scaling: Since our columns are on different sacle it is important to perform scaling on them**"
   ]
  },
  {
   "cell_type": "code",
   "execution_count": 22,
   "id": "c89c30be-d28c-4782-969e-ba4b7768e1cc",
   "metadata": {},
   "outputs": [],
   "source": [
    "from sklearn.preprocessing import MinMaxScaler\n",
    "\n",
    "sx = MinMaxScaler()\n",
    "sy = MinMaxScaler()\n",
    "\n",
    "scaled_X = sx.fit_transform(df.drop('price', axis = 'columns'))\n",
    "scaled_y = sy.fit_transform(df['price'].values.reshape(df.shape[0],1))"
   ]
  },
  {
   "cell_type": "code",
   "execution_count": 23,
   "id": "358a4b44-a716-47cd-9462-05650a760430",
   "metadata": {},
   "outputs": [
    {
     "data": {
      "text/plain": [
       "array([[0.08827586, 0.25      ],\n",
       "       [0.62068966, 0.75      ],\n",
       "       [0.22068966, 0.5       ],\n",
       "       [0.24862069, 0.5       ],\n",
       "       [0.13793103, 0.25      ],\n",
       "       [0.12758621, 0.25      ],\n",
       "       [0.6662069 , 0.75      ],\n",
       "       [0.86206897, 0.75      ],\n",
       "       [0.17586207, 0.5       ],\n",
       "       [1.        , 1.        ],\n",
       "       [0.34482759, 0.5       ],\n",
       "       [0.68448276, 0.75      ],\n",
       "       [0.06896552, 0.25      ],\n",
       "       [0.10344828, 0.25      ],\n",
       "       [0.5       , 0.5       ],\n",
       "       [0.12931034, 0.25      ],\n",
       "       [0.13103448, 0.5       ],\n",
       "       [0.25517241, 0.5       ],\n",
       "       [0.67931034, 0.5       ],\n",
       "       [0.        , 0.        ]])"
      ]
     },
     "execution_count": 23,
     "metadata": {},
     "output_type": "execute_result"
    }
   ],
   "source": [
    "scaled_X"
   ]
  },
  {
   "cell_type": "code",
   "execution_count": 24,
   "id": "7bcc1f4d-68ec-446a-86cf-7146f2668818",
   "metadata": {},
   "outputs": [
    {
     "data": {
      "text/plain": [
       "array([[0.05237037],\n",
       "       [0.65185185],\n",
       "       [0.22222222],\n",
       "       [0.31851852],\n",
       "       [0.14074074],\n",
       "       [0.04444444],\n",
       "       [0.76296296],\n",
       "       [0.91111111],\n",
       "       [0.13333333],\n",
       "       [1.        ],\n",
       "       [0.37037037],\n",
       "       [0.8       ],\n",
       "       [0.04444444],\n",
       "       [0.05925926],\n",
       "       [0.51111111],\n",
       "       [0.07407407],\n",
       "       [0.11851852],\n",
       "       [0.20740741],\n",
       "       [0.51851852],\n",
       "       [0.        ]])"
      ]
     },
     "execution_count": 24,
     "metadata": {},
     "output_type": "execute_result"
    }
   ],
   "source": [
    "scaled_y"
   ]
  },
  {
   "cell_type": "markdown",
   "id": "2d2a9f85-af08-41a9-b7ad-0def54ad90aa",
   "metadata": {},
   "source": [
    "**We should convert target column (i.e. price) into one dimensional array. It has become 2D due to scaling that we did above but now we should change to 1D**"
   ]
  },
  {
   "cell_type": "code",
   "execution_count": 25,
   "id": "d6f43c81-e382-4b26-a774-b94a6b126da4",
   "metadata": {},
   "outputs": [
    {
     "data": {
      "text/plain": [
       "array([0.05237037, 0.65185185, 0.22222222, 0.31851852, 0.14074074,\n",
       "       0.04444444, 0.76296296, 0.91111111, 0.13333333, 1.        ,\n",
       "       0.37037037, 0.8       , 0.04444444, 0.05925926, 0.51111111,\n",
       "       0.07407407, 0.11851852, 0.20740741, 0.51851852, 0.        ])"
      ]
     },
     "execution_count": 25,
     "metadata": {},
     "output_type": "execute_result"
    }
   ],
   "source": [
    "scaled_y.reshape(20,)"
   ]
  },
  {
   "attachments": {
    "76d09abf-6b99-4287-a01a-d236bac6913c.png": {
     "image/png": "[encoded data removed]"
    }
   },
   "cell_type": "markdown",
   "id": "d6299102-edb7-48ba-ab3b-88f6a07f5b15",
   "metadata": {},
   "source": [
    "**Gradient descent allows you to find weights (w1,w2,w3) and bias in following linear equation for housing price prediction**\n",
    "![image.png](attachment:76d09abf-6b99-4287-a01a-d236bac6913c.png)"
   ]
  },
  {
   "cell_type": "markdown",
   "id": "9ebe19c3-52d2-4496-b4d2-336d5090d86b",
   "metadata": {},
   "source": [
    "# Now is the time to implement Batch Gradient Descent."
   ]
  },
  {
   "cell_type": "code",
   "execution_count": 39,
   "id": "cc65205d-b7b2-4878-89dc-0b32d9716bb2",
   "metadata": {},
   "outputs": [
    {
     "data": {
      "text/plain": [
       "(array([0.70712464, 0.67456527]), -0.23034857438407427, 0.0068641890429808105)"
      ]
     },
     "execution_count": 39,
     "metadata": {},
     "output_type": "execute_result"
    }
   ],
   "source": [
    "def batch_gradient_descent(X, y_true, epochs, learning_rate = 0.01):\n",
    "\n",
    "    number_of_features = X.shape[1]\n",
    "    # numpy array with 1 row and columns equal to number of features. In \n",
    "    # our case number_of_features = 2 (area, bedroom)\n",
    "    w = np.ones(shape=(number_of_features)) \n",
    "    b = 0\n",
    "    total_samples = X.shape[0] # number of rows in X\n",
    "    \n",
    "    cost_list = []\n",
    "    epoch_list = []\n",
    "    \n",
    "    for i in range(epochs):        \n",
    "        y_predicted = np.dot(w, X.T) + b  # z = w1*x1 + w2*x2 + b\n",
    "\n",
    "        w_grad = -(2/total_samples)*(X.T.dot(y_true-y_predicted))\n",
    "        b_grad = -(2/total_samples)*np.sum(y_true-y_predicted)\n",
    "        \n",
    "        w = w - learning_rate * w_grad\n",
    "        b = b - learning_rate * b_grad\n",
    "        \n",
    "        cost = np.mean(np.square(y_true-y_predicted)) # MSE (Mean Squared Error)\n",
    "        \n",
    "        if i%10==0:\n",
    "            cost_list.append(cost)\n",
    "            epoch_list.append(i)\n",
    "        \n",
    "    return w, b, cost, cost_list, epoch_list\n",
    "\n",
    "w, b, cost, cost_list, epoch_list = batch_gradient_descent(scaled_X,scaled_y.reshape(scaled_y.shape[0],),500)\n",
    "w, b, cost"
   ]
  },
  {
   "cell_type": "markdown",
   "id": "dba332ca-8d8e-4367-84a0-4718212763bf",
   "metadata": {},
   "source": [
    "**Check price equation above. In that equation we were trying to find values of w1,w2 and bias. Here we got these values for each of them,**\n",
    "**w1 = 0.66469087 w2 = 0.60541671 bias = -0.17792104056392882**\n",
    "\n",
    "**Now plot epoch vs cost graph to see how cost reduces as number of epoch increases**"
   ]
  },
  {
   "cell_type": "markdown",
   "id": "a15492c0-92e4-4581-a985-d5cd1f87f54e",
   "metadata": {},
   "source": [
    "**Now plot epoch vs cost graph to see how cost reduces as number of epoch increases**"
   ]
  },
  {
   "cell_type": "code",
   "execution_count": 28,
   "id": "9101513c-f47b-463b-8fc7-546613cbce4b",
   "metadata": {},
   "outputs": [
    {
     "data": {
      "text/plain": [
       "[<matplotlib.lines.Line2D at 0x22da0a8d850>]"
      ]
     },
     "execution_count": 28,
     "metadata": {},
     "output_type": "execute_result"
    },
    {
     "data": {
      "image/png": "[encoded data removed]",
      "text/plain": [
       "<Figure size 640x480 with 1 Axes>"
      ]
     },
     "metadata": {},
     "output_type": "display_data"
    }
   ],
   "source": [
    "plt.xlabel(\"epoch\")\n",
    "plt.ylabel(\"cost\")\n",
    "plt.plot(epoch_list,cost_list)"
   ]
  },
  {
   "cell_type": "markdown",
   "id": "6b60c65d-ada2-4eec-8a6c-deb0ca0137d7",
   "metadata": {},
   "source": [
    "**Lets do some predictions now.**\n"
   ]
  },
  {
   "cell_type": "code",
   "execution_count": 29,
   "id": "530d77b6-6eb2-4579-a726-a4a246801a32",
   "metadata": {},
   "outputs": [
    {
     "name": "stderr",
     "output_type": "stream",
     "text": [
      "C:\\Users\\Admin\\AppData\\Roaming\\Python\\Python312\\site-packages\\sklearn\\base.py:493: UserWarning: X does not have valid feature names, but MinMaxScaler was fitted with feature names\n",
      "  warnings.warn(\n"
     ]
    },
    {
     "data": {
      "text/plain": [
       "128.45484403267596"
      ]
     },
     "execution_count": 29,
     "metadata": {},
     "output_type": "execute_result"
    }
   ],
   "source": [
    "def predict(area,bedrooms,w,b):\n",
    "    scaled_X = sx.transform([[area, bedrooms]])[0]\n",
    "    # here w1 = w[0] , w2 = w[1], w3 = w[2] and bias is b\n",
    "    # equation for price is w1*area + w2*bedrooms + w3*age + bias\n",
    "    # scaled_X[0] is area\n",
    "    # scaled_X[1] is bedrooms\n",
    "    # scaled_X[2] is age\n",
    "    scaled_price = w[0] * scaled_X[0] + w[1] * scaled_X[1] + b\n",
    "    # once we get price prediction we need to to rescal it back to original value\n",
    "    # also since it returns 2D array, to get single value we need to do value[0][0]\n",
    "    return sy.inverse_transform([[scaled_price]])[0][0]\n",
    "\n",
    "predict(2600,4,w,b)"
   ]
  },
  {
   "cell_type": "code",
   "execution_count": 30,
   "id": "c8e51d0b-f2ce-4a92-be0d-41cd8322871e",
   "metadata": {},
   "outputs": [
    {
     "name": "stderr",
     "output_type": "stream",
     "text": [
      "C:\\Users\\Admin\\AppData\\Roaming\\Python\\Python312\\site-packages\\sklearn\\base.py:493: UserWarning: X does not have valid feature names, but MinMaxScaler was fitted with feature names\n",
      "  warnings.warn(\n"
     ]
    },
    {
     "data": {
      "text/plain": [
       "30.253094462442355"
      ]
     },
     "execution_count": 30,
     "metadata": {},
     "output_type": "execute_result"
    }
   ],
   "source": [
    "predict(1000,2,w,b)"
   ]
  },
  {
   "cell_type": "code",
   "execution_count": 32,
   "id": "94b7c44d-8cfc-48e6-8a32-d1fcb418692c",
   "metadata": {},
   "outputs": [
    {
     "name": "stderr",
     "output_type": "stream",
     "text": [
      "C:\\Users\\Admin\\AppData\\Roaming\\Python\\Python312\\site-packages\\sklearn\\base.py:493: UserWarning: X does not have valid feature names, but MinMaxScaler was fitted with feature names\n",
      "  warnings.warn(\n"
     ]
    },
    {
     "data": {
      "text/plain": [
       "69.47860785714694"
      ]
     },
     "execution_count": 32,
     "metadata": {},
     "output_type": "execute_result"
    }
   ],
   "source": [
    "predict(1500,3,w,b)"
   ]
  },
  {
   "cell_type": "markdown",
   "id": "fddb34b8-5ae9-4395-aa57-2de0037eaa8a",
   "metadata": {},
   "source": [
    "# (2) Stochastic Gradient Descent Implementation"
   ]
  },
  {
   "cell_type": "markdown",
   "id": "460d1758-466a-41de-897a-9da6eacab219",
   "metadata": {},
   "source": [
    "**Stochastic GD will use randomly picked single training sample to calculate error and using this error we backpropage to adjust weights**"
   ]
  },
  {
   "cell_type": "code",
   "execution_count": 33,
   "id": "e6819cdb-38e7-4a69-b7f9-d7c3e9550e69",
   "metadata": {},
   "outputs": [
    {
     "data": {
      "text/plain": [
       "3"
      ]
     },
     "execution_count": 33,
     "metadata": {},
     "output_type": "execute_result"
    }
   ],
   "source": [
    "# we will use random libary to pick random training sample.\n",
    "import random\n",
    "random.randint(0,6) # randit gives random number between two numbers specified in the argument"
   ]
  },
  {
   "cell_type": "code",
   "execution_count": 40,
   "id": "e0482404-0d91-40ef-9248-d5ed3dd14793",
   "metadata": {},
   "outputs": [
    {
     "data": {
      "text/plain": [
       "(array([0.70741701, 0.67460509]), -0.23073416947462547, 0.0002719303344185894)"
      ]
     },
     "execution_count": 40,
     "metadata": {},
     "output_type": "execute_result"
    }
   ],
   "source": [
    "def stochastic_gradient_descent(X, y_true, epochs, learning_rate = 0.01):\n",
    " \n",
    "    number_of_features = X.shape[1]\n",
    "    # numpy array with 1 row and columns equal to number of features. In \n",
    "    # our case number_of_features = 3 (area, bedroom and age)\n",
    "    w = np.ones(shape=(number_of_features)) \n",
    "    b = 0\n",
    "    total_samples = X.shape[0]\n",
    "    \n",
    "    cost_list = []\n",
    "    epoch_list = []\n",
    "    \n",
    "    for i in range(epochs):    \n",
    "        random_index = random.randint(0,total_samples-1) # random index from total samples\n",
    "        sample_x = X[random_index]\n",
    "        sample_y = y_true[random_index]\n",
    "        \n",
    "        y_predicted = np.dot(w, sample_x.T) + b\n",
    "    \n",
    "        w_grad = -(2/total_samples)*(sample_x.T.dot(sample_y-y_predicted))\n",
    "        b_grad = -(2/total_samples)*(sample_y-y_predicted)\n",
    "        \n",
    "        w = w - learning_rate * w_grad\n",
    "        b = b - learning_rate * b_grad\n",
    "        \n",
    "        cost = np.square(sample_y-y_predicted)\n",
    "        \n",
    "        if i%100==0: # at every 100th iteration record the cost and epoch value\n",
    "            cost_list.append(cost)\n",
    "            epoch_list.append(i)\n",
    "        \n",
    "    return w, b, cost, cost_list, epoch_list\n",
    "\n",
    "w_sgd, b_sgd, cost_sgd, cost_list_sgd, epoch_list_sgd = stochastic_gradient_descent(scaled_X,scaled_y.reshape(scaled_y.shape[0],),10000)\n",
    "w_sgd, b_sgd, cost_sgd"
   ]
  },
  {
   "cell_type": "code",
   "execution_count": 41,
   "id": "03a457d8-4b5c-4c9f-950c-8267ddcf0954",
   "metadata": {},
   "outputs": [
    {
     "data": {
      "text/plain": [
       "[<matplotlib.lines.Line2D at 0x22da0c3ebd0>]"
      ]
     },
     "execution_count": 41,
     "metadata": {},
     "output_type": "execute_result"
    },
    {
     "data": {
      "image/png": "[encoded data removed]",
      "text/plain": [
       "<Figure size 640x480 with 1 Axes>"
      ]
     },
     "metadata": {},
     "output_type": "display_data"
    }
   ],
   "source": [
    "plt.xlabel(\"epoch\")\n",
    "plt.ylabel(\"cost\")\n",
    "plt.plot(epoch_list_sgd,cost_list_sgd)"
   ]
  },
  {
   "cell_type": "code",
   "execution_count": 42,
   "id": "1f8df8cb-738a-4666-982e-bfb7a85bb1aa",
   "metadata": {},
   "outputs": [
    {
     "name": "stderr",
     "output_type": "stream",
     "text": [
      "C:\\Users\\Admin\\AppData\\Roaming\\Python\\Python312\\site-packages\\sklearn\\base.py:493: UserWarning: X does not have valid feature names, but MinMaxScaler was fitted with feature names\n",
      "  warnings.warn(\n"
     ]
    },
    {
     "data": {
      "text/plain": [
       "128.43131904636465"
      ]
     },
     "execution_count": 42,
     "metadata": {},
     "output_type": "execute_result"
    }
   ],
   "source": [
    "predict(2600,4,w_sgd, b_sgd) "
   ]
  },
  {
   "cell_type": "code",
   "execution_count": 43,
   "id": "d9dabd6c-0fe9-4a97-8b41-e43beadabeb3",
   "metadata": {},
   "outputs": [
    {
     "name": "stderr",
     "output_type": "stream",
     "text": [
      "C:\\Users\\Admin\\AppData\\Roaming\\Python\\Python312\\site-packages\\sklearn\\base.py:493: UserWarning: X does not have valid feature names, but MinMaxScaler was fitted with feature names\n",
      "  warnings.warn(\n"
     ]
    },
    {
     "data": {
      "text/plain": [
       "30.205105217978545"
      ]
     },
     "execution_count": 43,
     "metadata": {},
     "output_type": "execute_result"
    }
   ],
   "source": [
    "predict(1000,2,w_sgd, b_sgd)"
   ]
  },
  {
   "cell_type": "code",
   "execution_count": 44,
   "id": "cf7628a4-4e20-4355-b5a7-dddf8ef85590",
   "metadata": {},
   "outputs": [
    {
     "name": "stderr",
     "output_type": "stream",
     "text": [
      "C:\\Users\\Admin\\AppData\\Roaming\\Python\\Python312\\site-packages\\sklearn\\base.py:493: UserWarning: X does not have valid feature names, but MinMaxScaler was fitted with feature names\n",
      "  warnings.warn(\n"
     ]
    },
    {
     "data": {
      "text/plain": [
       "69.43876772360156"
      ]
     },
     "execution_count": 44,
     "metadata": {},
     "output_type": "execute_result"
    }
   ],
   "source": [
    "predict(1500,3,w_sgd, b_sgd)"
   ]
  },
  {
   "cell_type": "code",
   "execution_count": null,
   "id": "ee19a749-605e-4fb0-8c12-2daa25993441",
   "metadata": {},
   "outputs": [],
   "source": []
  }
 ],
 "metadata": {
  "kernelspec": {
   "display_name": "Python 3 (ipykernel)",
   "language": "python",
   "name": "python3"
  },
  "language_info": {
   "codemirror_mode": {
    "name": "ipython",
    "version": 3
   },
   "file_extension": ".py",
   "mimetype": "text/x-python",
   "name": "python",
   "nbconvert_exporter": "python",
   "pygments_lexer": "ipython3",
   "version": "3.12.3"
  }
 },
 "nbformat": 4,
 "nbformat_minor": 5
}
