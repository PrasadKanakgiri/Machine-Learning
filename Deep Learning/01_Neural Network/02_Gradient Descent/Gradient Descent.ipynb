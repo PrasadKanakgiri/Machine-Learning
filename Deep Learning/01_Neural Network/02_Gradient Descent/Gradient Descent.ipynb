{
 "cells": [
  {
   "cell_type": "code",
   "execution_count": null,
   "id": "672f5ba5-e891-454b-ad8d-5baa03cc7b89",
   "metadata": {},
   "outputs": [],
   "source": []
  }
 ],
 "metadata": {
  "kernelspec": {
   "display_name": "",
   "name": ""
  },
  "language_info": {
   "name": ""
  }
 },
 "nbformat": 4,
 "nbformat_minor": 5
}
